{
 "cells": [
  {
   "cell_type": "markdown",
   "metadata": {},
   "source": [
    "# Regression Week 4: Ridge Regression (interpretation)"
   ]
  },
  {
   "cell_type": "markdown",
   "metadata": {},
   "source": [
    "In this notebook, we will run ridge regression multiple times with different L2 penalties to see which one produces the best fit. We will revisit the example of polynomial regression as a means to see the effect of L2 regularization. In particular, we will:\n",
    "* Use a pre-built implementation of regression (GraphLab Create) to run polynomial regression\n",
    "* Use matplotlib to visualize polynomial regressions\n",
    "* Use a pre-built implementation of regression (GraphLab Create) to run polynomial regression, this time with L2 penalty\n",
    "* Use matplotlib to visualize polynomial regressions under L2 regularization\n",
    "* Choose best L2 penalty using cross-validation.\n",
    "* Assess the final fit using test data.\n",
    "\n",
    "We will continue to use the House data from previous notebooks.  (In the next programming assignment for this module, you will implement your own ridge regression learning algorithm using gradient descent.)"
   ]
  },
  {
   "cell_type": "markdown",
   "metadata": {},
   "source": [
    "# Fire up graphlab create"
   ]
  },
  {
   "cell_type": "code",
   "execution_count": 1,
   "metadata": {
    "collapsed": false
   },
   "outputs": [],
   "source": [
    "import graphlab"
   ]
  },
  {
   "cell_type": "markdown",
   "metadata": {},
   "source": [
    "# Polynomial regression, revisited"
   ]
  },
  {
   "cell_type": "markdown",
   "metadata": {},
   "source": [
    "We build on the material from Week 3, where we wrote the function to produce an SFrame with columns containing the powers of a given input. Copy and paste the function `polynomial_sframe` from Week 3:"
   ]
  },
  {
   "cell_type": "code",
   "execution_count": 2,
   "metadata": {
    "collapsed": true
   },
   "outputs": [],
   "source": [
    "def polynomial_sframe(feature, degree):\n",
    "    # assume that degree >= 1\n",
    "    # initialize the SFrame:\n",
    "    poly_sframe = graphlab.SFrame()\n",
    "    # and set poly_sframe['power_1'] equal to the passed feature\n",
    "    poly_sframe['power_1'] = feature\n",
    "    # first check if degree > 1\n",
    "    if degree > 1:\n",
    "        # then loop over the remaining degrees:\n",
    "        # range usually starts at 0 and stops at the endpoint-1. We want it to start at 2 and stop at degree\n",
    "        for power in range(2, degree+1): \n",
    "            # first we'll give the column a name:\n",
    "            name = 'power_' + str(power)\n",
    "            # then assign poly_sframe[name] to the appropriate power of feature\n",
    "            poly_sframe[name] = poly_sframe['power_1'].apply(lambda x: x**power)\n",
    "    return poly_sframe"
   ]
  },
  {
   "cell_type": "markdown",
   "metadata": {},
   "source": [
    "Let's use matplotlib to visualize what a polynomial regression looks like on the house data."
   ]
  },
  {
   "cell_type": "code",
   "execution_count": 3,
   "metadata": {
    "collapsed": false
   },
   "outputs": [
    {
     "name": "stderr",
     "output_type": "stream",
     "text": [
      "[INFO] graphlab.cython.cy_server: GraphLab Create v2.1 started. Logging: /tmp/graphlab_server_1480216280.log\n"
     ]
    },
    {
     "name": "stdout",
     "output_type": "stream",
     "text": [
      "This non-commercial license of GraphLab Create for academic use is assigned to chnlds@gmail.com and will expire on March 16, 2017.\n"
     ]
    },
    {
     "name": "stderr",
     "output_type": "stream",
     "text": [
      "/Users/CrazyGear/anaconda/envs/gl-env/lib/python2.7/site-packages/matplotlib/font_manager.py:273: UserWarning: Matplotlib is building the font cache using fc-list. This may take a moment.\n",
      "  warnings.warn('Matplotlib is building the font cache using fc-list. This may take a moment.')\n"
     ]
    }
   ],
   "source": [
    "import matplotlib.pyplot as plt\n",
    "%matplotlib inline"
   ]
  },
  {
   "cell_type": "code",
   "execution_count": 4,
   "metadata": {
    "collapsed": false
   },
   "outputs": [],
   "source": [
    "sales = graphlab.SFrame('kc_house_data.gl/')"
   ]
  },
  {
   "cell_type": "markdown",
   "metadata": {},
   "source": [
    "As in Week 3, we will use the sqft_living variable. For plotting purposes (connecting the dots), you'll need to sort by the values of sqft_living. For houses with identical square footage, we break the tie by their prices."
   ]
  },
  {
   "cell_type": "code",
   "execution_count": 5,
   "metadata": {
    "collapsed": false
   },
   "outputs": [],
   "source": [
    "sales = sales.sort(['sqft_living','price'])"
   ]
  },
  {
   "cell_type": "markdown",
   "metadata": {},
   "source": [
    "Let us revisit the 15th-order polynomial model using the 'sqft_living' input. Generate polynomial features up to degree 15 using `polynomial_sframe()` and fit a model with these features. When fitting the model, use an L2 penalty of `1e-5`:"
   ]
  },
  {
   "cell_type": "code",
   "execution_count": 6,
   "metadata": {
    "collapsed": true
   },
   "outputs": [],
   "source": [
    "l2_small_penalty = 1e-5"
   ]
  },
  {
   "cell_type": "markdown",
   "metadata": {},
   "source": [
    "Note: When we have so many features and so few data points, the solution can become highly numerically unstable, which can sometimes lead to strange unpredictable results.  Thus, rather than using no regularization, we will introduce a tiny amount of regularization (`l2_penalty=1e-5`) to make the solution numerically stable.  (In lecture, we discussed the fact that regularization can also help with numerical stability, and here we are seeing a practical example.)\n",
    "\n",
    "With the L2 penalty specified above, fit the model and print out the learned weights.\n",
    "\n",
    "Hint: make sure to add 'price' column to the new SFrame before calling `graphlab.linear_regression.create()`. Also, make sure GraphLab Create doesn't create its own validation set by using the option `validation_set=None` in this call."
   ]
  },
  {
   "cell_type": "code",
   "execution_count": null,
   "metadata": {
    "collapsed": false
   },
   "outputs": [],
   "source": [
    "features = ('sqft_living',)\n",
    "poly1_data = polynomial_sframe(sales['sqft_living'], 1)\n",
    "poly1_data['price'] = sales['price'] # add price to the data since it's the target\n",
    "model_1 = graphlab.linear_regression.create(poly1_data, features = ['power_1',], target='price', \n",
    "                             verbose = False, validation_set=None, l2_penalty=l2_small_penalty)\n",
    "model_1.get(\"coefficients\")"
   ]
  },
  {
   "cell_type": "markdown",
   "metadata": {},
   "source": [
    "***QUIZ QUESTION:  What's the learned value for the coefficient of feature `power_1`?***"
   ]
  },
  {
   "cell_type": "markdown",
   "metadata": {},
   "source": [
    "280.6"
   ]
  },
  {
   "cell_type": "markdown",
   "metadata": {},
   "source": [
    "# Observe overfitting"
   ]
  },
  {
   "cell_type": "markdown",
   "metadata": {},
   "source": [
    "Recall from Week 3 that the polynomial fit of degree 15 changed wildly whenever the data changed. In particular, when we split the sales data into four subsets and fit the model of degree 15, the result came out to be very different for each subset. The model had a *high variance*. We will see in a moment that ridge regression reduces such variance. But first, we must reproduce the experiment we did in Week 3."
   ]
  },
  {
   "cell_type": "markdown",
   "metadata": {},
   "source": [
    "First, split the data into split the sales data into four subsets of roughly equal size and call them `set_1`, `set_2`, `set_3`, and `set_4`. Use `.random_split` function and make sure you set `seed=0`. "
   ]
  },
  {
   "cell_type": "code",
   "execution_count": 7,
   "metadata": {
    "collapsed": true
   },
   "outputs": [],
   "source": [
    "(semi_split1, semi_split2) = sales.random_split(.5,seed=0)\n",
    "(set_1, set_2) = semi_split1.random_split(0.5, seed=0)\n",
    "(set_3, set_4) = semi_split2.random_split(0.5, seed=0)"
   ]
  },
  {
   "cell_type": "markdown",
   "metadata": {},
   "source": [
    "Next, fit a 15th degree polynomial on `set_1`, `set_2`, `set_3`, and `set_4`, using 'sqft_living' to predict prices. Print the weights and make a plot of the resulting model.\n",
    "\n",
    "Hint: When calling `graphlab.linear_regression.create()`, use the same L2 penalty as before (i.e. `l2_small_penalty`).  Also, make sure GraphLab Create doesn't create its own validation set by using the option `validation_set = None` in this call."
   ]
  },
  {
   "cell_type": "code",
   "execution_count": null,
   "metadata": {
    "collapsed": false
   },
   "outputs": [],
   "source": [
    "def train_power_plot(train_set, power=15):\n",
    "    poly_power_data = polynomial_sframe(train_set['sqft_living'], power)\n",
    "    my_features = poly_power_data.column_names() # get the name of the features\n",
    "    poly_power_data['price'] = train_set['price'] # add price to the data since it's the target\n",
    "    model_power = graphlab.linear_regression.create(poly_power_data, target = 'price', features = my_features, \n",
    "                                    validation_set = None, verbose = False, l2_penalty=l2_small_penalty)\n",
    "    print model_power.get(\"coefficients\")\n",
    "    plt.figure()\n",
    "    plt.plot(poly_power_data['power_1'],poly_power_data['price'],'.',\n",
    "            poly_power_data['power_1'], model_power.predict(poly_power_data),'-')"
   ]
  },
  {
   "cell_type": "code",
   "execution_count": null,
   "metadata": {
    "collapsed": false
   },
   "outputs": [],
   "source": [
    "for st in (set_1, set_2, set_3, set_4):\n",
    "    train_power_plot(st)"
   ]
  },
  {
   "cell_type": "markdown",
   "metadata": {},
   "source": [
    "The four curves should differ from one another a lot, as should the coefficients you learned.\n",
    "\n",
    "***QUIZ QUESTION:  For the models learned in each of these training sets, what are the smallest and largest values you learned for the coefficient of feature `power_1`?***  (For the purpose of answering this question, negative numbers are considered \"smaller\" than positive numbers. So -5 is smaller than -3, and -3 is smaller than 5 and so forth.)"
   ]
  },
  {
   "cell_type": "markdown",
   "metadata": {},
   "source": [
    "6003, 9294, -759, 1247.59"
   ]
  },
  {
   "cell_type": "markdown",
   "metadata": {},
   "source": [
    "# Ridge regression comes to rescue"
   ]
  },
  {
   "cell_type": "markdown",
   "metadata": {},
   "source": [
    "Generally, whenever we see weights change so much in response to change in data, we believe the variance of our estimate to be large. Ridge regression aims to address this issue by penalizing \"large\" weights. (Weights of `model15` looked quite small, but they are not that small because 'sqft_living' input is in the order of thousands.)\n",
    "\n",
    "With the argument `l2_penalty=1e5`, fit a 15th-order polynomial model on `set_1`, `set_2`, `set_3`, and `set_4`. Other than the change in the `l2_penalty` parameter, the code should be the same as the experiment above. Also, make sure GraphLab Create doesn't create its own validation set by using the option `validation_set = None` in this call."
   ]
  },
  {
   "cell_type": "code",
   "execution_count": null,
   "metadata": {
    "collapsed": false,
    "scrolled": false
   },
   "outputs": [],
   "source": [
    "def train_power_plot(train_set, power=15):\n",
    "    poly_power_data = polynomial_sframe(train_set['sqft_living'], power)\n",
    "    my_features = poly_power_data.column_names() # get the name of the features\n",
    "    poly_power_data['price'] = train_set['price'] # add price to the data since it's the target\n",
    "    model_power = graphlab.linear_regression.create(poly_power_data, target = 'price', features = my_features, \n",
    "                                    validation_set = None, verbose = False, l2_penalty=1e5)\n",
    "    print model_power.get(\"coefficients\")\n",
    "    plt.figure()\n",
    "    plt.plot(poly_power_data['power_1'],poly_power_data['price'],'.',\n",
    "            poly_power_data['power_1'], model_power.predict(poly_power_data),'-')"
   ]
  },
  {
   "cell_type": "code",
   "execution_count": null,
   "metadata": {
    "collapsed": true
   },
   "outputs": [],
   "source": [
    "for st in (set_1, set_2, set_3, set_4):\n",
    "    train_power_plot(st)"
   ]
  },
  {
   "cell_type": "markdown",
   "metadata": {
    "collapsed": false
   },
   "source": []
  },
  {
   "cell_type": "code",
   "execution_count": null,
   "metadata": {
    "collapsed": false
   },
   "outputs": [],
   "source": []
  },
  {
   "cell_type": "markdown",
   "metadata": {},
   "source": [
    "These curves should vary a lot less, now that you applied a high degree of regularization.\n",
    "\n",
    "***QUIZ QUESTION:  For the models learned with the high level of regularization in each of these training sets, what are the smallest and largest values you learned for the coefficient of feature `power_1`?*** (For the purpose of answering this question, negative numbers are considered \"smaller\" than positive numbers. So -5 is smaller than -3, and -3 is smaller than 5 and so forth.)"
   ]
  },
  {
   "cell_type": "markdown",
   "metadata": {},
   "source": [
    "2.58738875673, 2.04470474182, 2.26890421877, 1.91040938244"
   ]
  },
  {
   "cell_type": "markdown",
   "metadata": {},
   "source": [
    "# Selecting an L2 penalty via cross-validation"
   ]
  },
  {
   "cell_type": "markdown",
   "metadata": {},
   "source": [
    "Just like the polynomial degree, the L2 penalty is a \"magic\" parameter we need to select. We could use the validation set approach as we did in the last module, but that approach has a major disadvantage: it leaves fewer observations available for training. **Cross-validation** seeks to overcome this issue by using all of the training set in a smart way.\n",
    "\n",
    "We will implement a kind of cross-validation called **k-fold cross-validation**. The method gets its name because it involves dividing the training set into k segments of roughtly equal size. Similar to the validation set method, we measure the validation error with one of the segments designated as the validation set. The major difference is that we repeat the process k times as follows:\n",
    "\n",
    "Set aside segment 0 as the validation set, and fit a model on rest of data, and evalutate it on this validation set<br>\n",
    "Set aside segment 1 as the validation set, and fit a model on rest of data, and evalutate it on this validation set<br>\n",
    "...<br>\n",
    "Set aside segment k-1 as the validation set, and fit a model on rest of data, and evalutate it on this validation set\n",
    "\n",
    "After this process, we compute the average of the k validation errors, and use it as an estimate of the generalization error. Notice that  all observations are used for both training and validation, as we iterate over segments of data. \n",
    "\n",
    "To estimate the generalization error well, it is crucial to shuffle the training data before dividing them into segments. GraphLab Create has a utility function for shuffling a given SFrame. We reserve 10% of the data as the test set and shuffle the remainder. (Make sure to use `seed=1` to get consistent answer.)"
   ]
  },
  {
   "cell_type": "code",
   "execution_count": 8,
   "metadata": {
    "collapsed": true
   },
   "outputs": [],
   "source": [
    "(train_valid, test) = sales.random_split(.9, seed=1)\n",
    "train_valid_shuffled = graphlab.toolkits.cross_validation.shuffle(train_valid, random_seed=1)"
   ]
  },
  {
   "cell_type": "markdown",
   "metadata": {},
   "source": [
    "Once the data is shuffled, we divide it into equal segments. Each segment should receive `n/k` elements, where `n` is the number of observations in the training set and `k` is the number of segments. Since the segment 0 starts at index 0 and contains `n/k` elements, it ends at index `(n/k)-1`. The segment 1 starts where the segment 0 left off, at index `(n/k)`. With `n/k` elements, the segment 1 ends at index `(n*2/k)-1`. Continuing in this fashion, we deduce that the segment `i` starts at index `(n*i/k)` and ends at `(n*(i+1)/k)-1`."
   ]
  },
  {
   "cell_type": "markdown",
   "metadata": {},
   "source": [
    "With this pattern in mind, we write a short loop that prints the starting and ending indices of each segment, just to make sure you are getting the splits right."
   ]
  },
  {
   "cell_type": "code",
   "execution_count": 9,
   "metadata": {
    "collapsed": false
   },
   "outputs": [
    {
     "name": "stdout",
     "output_type": "stream",
     "text": [
      "0 (0, 1938)\n",
      "1 (1939, 3878)\n",
      "2 (3879, 5817)\n",
      "3 (5818, 7757)\n",
      "4 (7758, 9697)\n",
      "5 (9698, 11636)\n",
      "6 (11637, 13576)\n",
      "7 (13577, 15515)\n",
      "8 (15516, 17455)\n",
      "9 (17456, 19395)\n"
     ]
    }
   ],
   "source": [
    "n = len(train_valid_shuffled)\n",
    "k = 10 # 10-fold cross-validation\n",
    "slices_index =[None]*k\n",
    "\n",
    "for i in xrange(k):\n",
    "    start = (n*i)/k\n",
    "    end = (n*(i+1))/k-1\n",
    "    slices_index[i] = (start, end)\n",
    "    print i, (start, end)"
   ]
  },
  {
   "cell_type": "markdown",
   "metadata": {
    "collapsed": false
   },
   "source": [
    "Let us familiarize ourselves with array slicing with SFrame. To extract a continuous slice from an SFrame, use colon in square brackets. For instance, the following cell extracts rows 0 to 9 of `train_valid_shuffled`. Notice that the first index (0) is included in the slice but the last index (10) is omitted."
   ]
  },
  {
   "cell_type": "code",
   "execution_count": null,
   "metadata": {
    "collapsed": true
   },
   "outputs": [],
   "source": [
    "train_valid_shuffled[0:10] # rows 0 to 9"
   ]
  },
  {
   "cell_type": "markdown",
   "metadata": {},
   "source": [
    "Now let us extract individual segments with array slicing. Consider the scenario where we group the houses in the `train_valid_shuffled` dataframe into k=10 segments of roughly equal size, with starting and ending indices computed as above.\n",
    "Extract the fourth segment (segment 3) and assign it to a variable called `validation4`."
   ]
  },
  {
   "cell_type": "code",
   "execution_count": null,
   "metadata": {
    "collapsed": false
   },
   "outputs": [],
   "source": [
    "validation4 = train_valid_shuffled[slices_index[3][0]:slices_index[3][1]+1]"
   ]
  },
  {
   "cell_type": "markdown",
   "metadata": {},
   "source": [
    "To verify that we have the right elements extracted, run the following cell, which computes the average price of the fourth segment. When rounded to nearest whole number, the average should be $536,234."
   ]
  },
  {
   "cell_type": "code",
   "execution_count": null,
   "metadata": {
    "collapsed": false
   },
   "outputs": [],
   "source": [
    "print int(round(validation4['price'].mean(), 0))"
   ]
  },
  {
   "cell_type": "markdown",
   "metadata": {},
   "source": [
    "After designating one of the k segments as the validation set, we train a model using the rest of the data. To choose the remainder, we slice (0:start) and (end+1:n) of the data and paste them together. SFrame has `append()` method that pastes together two disjoint sets of rows originating from a common dataset. For instance, the following cell pastes together the first and last two rows of the `train_valid_shuffled` dataframe."
   ]
  },
  {
   "cell_type": "code",
   "execution_count": null,
   "metadata": {
    "collapsed": true
   },
   "outputs": [],
   "source": [
    "n = len(train_valid_shuffled)\n",
    "first_two = train_valid_shuffled[0:2]\n",
    "last_two = train_valid_shuffled[n-2:n]\n",
    "print first_two.append(last_two)"
   ]
  },
  {
   "cell_type": "markdown",
   "metadata": {},
   "source": [
    "Extract the remainder of the data after *excluding* fourth segment (segment 3) and assign the subset to `train4`."
   ]
  },
  {
   "cell_type": "code",
   "execution_count": null,
   "metadata": {
    "collapsed": false
   },
   "outputs": [],
   "source": [
    "front = train_valid_shuffled[0:slices_index[3][0]]\n",
    "end = train_valid_shuffled[slices_index[4][0]:n]\n",
    "train4 = front.append(end)"
   ]
  },
  {
   "cell_type": "markdown",
   "metadata": {},
   "source": [
    "To verify that we have the right elements extracted, run the following cell, which computes the average price of the data with fourth segment excluded. When rounded to nearest whole number, the average should be $539,450."
   ]
  },
  {
   "cell_type": "code",
   "execution_count": null,
   "metadata": {
    "collapsed": false
   },
   "outputs": [],
   "source": [
    "print int(round(train4['price'].mean(), 0))"
   ]
  },
  {
   "cell_type": "code",
   "execution_count": null,
   "metadata": {
    "collapsed": false
   },
   "outputs": [],
   "source": [
    "print sales.show()"
   ]
  },
  {
   "cell_type": "markdown",
   "metadata": {},
   "source": [
    "Now we are ready to implement k-fold cross-validation. Write a function that computes k validation errors by designating each of the k segments as the validation set. It accepts as parameters (i) `k`, (ii) `l2_penalty`, (iii) dataframe, (iv) name of output column (e.g. `price`) and (v) list of feature names. The function returns the average validation error using k segments as validation sets.\n",
    "\n",
    "* For each i in [0, 1, ..., k-1]:\n",
    "  * Compute starting and ending indices of segment i and call 'start' and 'end'\n",
    "  * Form validation set by taking a slice (start:end+1) from the data.\n",
    "  * Form training set by appending slice (end+1:n) to the end of slice (0:start).\n",
    "  * Train a linear model using training set just formed, with a given l2_penalty\n",
    "  * Compute validation error using validation set just formed"
   ]
  },
  {
   "cell_type": "code",
   "execution_count": null,
   "metadata": {
    "collapsed": false
   },
   "outputs": [],
   "source": [
    "plt.figure()\n",
    "plt.plot(sales['sqft_living'], sales['price'], '.')"
   ]
  },
  {
   "cell_type": "code",
   "execution_count": 10,
   "metadata": {
    "collapsed": false
   },
   "outputs": [],
   "source": [
    "import numpy as np\n",
    "\n",
    "def k_fold_cross_validation(k, l2_penalty, data, output_name, features_list):\n",
    "    error = [None]*k\n",
    "    for i in range(k):\n",
    "        # Compute starting and ending indices of segment i and call 'start' and 'end'\n",
    "        n = len(data)\n",
    "        start = (n*i)/k\n",
    "        end = (n*(i+1))/k-1\n",
    "        # Form validation set by taking a slice (start:end+1) from the data.\n",
    "        validate = data[start: end+1]\n",
    "        # Form training set by appending slice (end+1:n) to the end of slice (0:start).\n",
    "        train = data[0:start].append(data[end+1:n])\n",
    "        # Train a linear model using training set just formed, with a given l2_penalty\n",
    "        model = graphlab.linear_regression.create(train, target = output_name, features = features_list, \n",
    "                                    validation_set = None, verbose = False, l2_penalty=l2_penalty)\n",
    "        # print model.get(\"coefficients\")\n",
    "        # plt.figure()\n",
    "        # plt.plot(train['power_1'],train['price'],'.',\n",
    "        #         train['power_1'], model.predict(train),'*')\n",
    "        # Compute validation error using validation set just formed\n",
    "        predictions = model.predict(validate)\n",
    "        kth_errors = predictions.to_numpy() - validate[output_name].to_numpy()\n",
    "        # error[i] = np.sqrt(np.dot(kth_errors, kth_errors)/float(end-start))\n",
    "        error[i] = np.sqrt((kth_errors*kth_errors).mean())\n",
    "        print '\\t{0}th-fold validation error={1}'.format(i+1, error[i])\n",
    "        \n",
    "    print '\\taverage error=%s' % np.array(error).mean()\n",
    "    return np.array(error).mean()"
   ]
  },
  {
   "cell_type": "markdown",
   "metadata": {},
   "source": [
    "Once we have a function to compute the average validation error for a model, we can write a loop to find the model that minimizes the average validation error. Write a loop that does the following:\n",
    "* We will again be aiming to fit a 15th-order polynomial model using the `sqft_living` input\n",
    "* For `l2_penalty` in [10^1, 10^1.5, 10^2, 10^2.5, ..., 10^7] (to get this in Python, you can use this Numpy function: `np.logspace(1, 7, num=13)`.)\n",
    "    * Run 10-fold cross-validation with `l2_penalty`\n",
    "* Report which L2 penalty produced the lowest average validation error.\n",
    "\n",
    "\n",
    "Note: since the degree of the polynomial is now fixed to 15, to make things faster, you should generate polynomial features in advance and re-use them throughout the loop. Make sure to use `train_valid_shuffled` when generating polynomial features!"
   ]
  },
  {
   "cell_type": "code",
   "execution_count": 11,
   "metadata": {
    "collapsed": false
   },
   "outputs": [
    {
     "name": "stdout",
     "output_type": "stream",
     "text": [
      "with penalty=10.0:\n",
      "\t1th-fold validation error=56644966068.0\n",
      "\t2th-fold validation error=57360475369.8\n",
      "\t3th-fold validation error=49373910555.4\n",
      "\t4th-fold validation error=63304908074.9\n",
      "\t5th-fold validation error=57561199712.5\n",
      "\t6th-fold validation error=1.97790545391e+12\n",
      "\t7th-fold validation error=69783241231.3\n",
      "\t8th-fold validation error=66572631741.1\n",
      "\t9th-fold validation error=58938861275.8\n",
      "\t10th-fold validation error=78850627656.6\n",
      "\taverage error=253629627559.0\n",
      "with penalty=31.6227766017:\n",
      "\t1th-fold validation error=56657068120.7\n",
      "\t2th-fold validation error=57403087045.5\n",
      "\t3th-fold validation error=49376705445.3\n",
      "\t4th-fold validation error=63263546670.1\n",
      "\t5th-fold validation error=57637592143.6\n",
      "\t6th-fold validation error=9.32677952336e+11\n",
      "\t7th-fold validation error=69774051774.3\n",
      "\t8th-fold validation error=66746920929.5\n",
      "\t9th-fold validation error=59085562732.3\n",
      "\t10th-fold validation error=69927903441.1\n",
      "\taverage error=148255039064.0\n",
      "with penalty=100.0:\n",
      "\t1th-fold validation error=56570322165.6\n",
      "\t2th-fold validation error=57424020840.6\n",
      "\t3th-fold validation error=49463433467.2\n",
      "\t4th-fold validation error=63232456238.7\n",
      "\t5th-fold validation error=57756333298.5\n",
      "\t6th-fold validation error=2.82308543869e+11\n",
      "\t7th-fold validation error=69647035472.9\n",
      "\t8th-fold validation error=66987729301.3\n",
      "\t9th-fold validation error=59264633904.3\n",
      "\t10th-fold validation error=67007856519.7\n",
      "\taverage error=82966236507.8\n",
      "with penalty=316.227766017:\n",
      "\t1th-fold validation error=56518222126.8\n",
      "\t2th-fold validation error=57508375081.3\n",
      "\t3th-fold validation error=49617964872.3\n",
      "\t4th-fold validation error=63237456724.5\n",
      "\t5th-fold validation error=57926638183.4\n",
      "\t6th-fold validation error=81136684060.7\n",
      "\t7th-fold validation error=69554848098.5\n",
      "\t8th-fold validation error=67362403635.8\n",
      "\t9th-fold validation error=59467134583.6\n",
      "\t10th-fold validation error=67136411053.4\n",
      "\taverage error=62946613842.0\n",
      "with penalty=1000.0:\n",
      "\t1th-fold validation error=56746531861.2\n",
      "\t2th-fold validation error=58010498066.6\n",
      "\t3th-fold validation error=49924158667.5\n",
      "\t4th-fold validation error=63650452973.4\n",
      "\t5th-fold validation error=58321101673.2\n",
      "\t6th-fold validation error=72625590737.5\n",
      "\t7th-fold validation error=69702630741.6\n",
      "\t8th-fold validation error=68272383819.0\n",
      "\t9th-fold validation error=59794997505.9\n",
      "\t10th-fold validation error=67781660746.3\n",
      "\taverage error=62483000679.2\n",
      "with penalty=3162.27766017:\n",
      "\t1th-fold validation error=58379737550.5\n",
      "\t2th-fold validation error=60168973033.3\n",
      "\t3th-fold validation error=50856038648.7\n",
      "\t4th-fold validation error=65763866180.3\n",
      "\t5th-fold validation error=59785255094.3\n",
      "\t6th-fold validation error=71390868976.8\n",
      "\t7th-fold validation error=71253296364.5\n",
      "\t8th-fold validation error=70983569101.2\n",
      "\t9th-fold validation error=60921084399.3\n",
      "\t10th-fold validation error=69544580297.2\n",
      "\taverage error=63904726964.6\n",
      "with penalty=10000.0:\n",
      "\t1th-fold validation error=64928264696.6\n",
      "\t2th-fold validation error=67488655139.7\n",
      "\t3th-fold validation error=54833579463.8\n",
      "\t4th-fold validation error=73097880167.1\n",
      "\t5th-fold validation error=65714864662.3\n",
      "\t6th-fold validation error=79079302781.1\n",
      "\t7th-fold validation error=78777667964.7\n",
      "\t8th-fold validation error=79250804474.5\n",
      "\t9th-fold validation error=65742371149.2\n",
      "\t10th-fold validation error=76576220030.2\n",
      "\taverage error=70548961052.9\n",
      "with penalty=31622.7766017:\n",
      "\t1th-fold validation error=81395932127.0\n",
      "\t2th-fold validation error=84807571531.3\n",
      "\t3th-fold validation error=67817966907.3\n",
      "\t4th-fold validation error=90060641348.1\n",
      "\t5th-fold validation error=81730792800.2\n",
      "\t6th-fold validation error=1.06998220767e+11\n",
      "\t7th-fold validation error=1.0009613574e+11\n",
      "\t8th-fold validation error=98436618731.3\n",
      "\t9th-fold validation error=79155941831.5\n",
      "\t10th-fold validation error=94879352010.6\n",
      "\taverage error=88537917379.5\n",
      "with penalty=100000.0:\n",
      "\t1th-fold validation error=1.02586940688e+11\n",
      "\t2th-fold validation error=1.06354438347e+11\n",
      "\t3th-fold validation error=86914635376.0\n",
      "\t4th-fold validation error=1.10608752e+11\n",
      "\t5th-fold validation error=1.02649945991e+11\n",
      "\t6th-fold validation error=2.04295860651e+11\n",
      "\t7th-fold validation error=1.28772616164e+11\n",
      "\t8th-fold validation error=1.22048538716e+11\n",
      "\t9th-fold validation error=96917195489.5\n",
      "\t10th-fold validation error=1.21392395432e+11\n",
      "\taverage error=118254131886.0\n",
      "with penalty=316227.766017:\n",
      "\t1th-fold validation error=1.17113483182e+11\n",
      "\t2th-fold validation error=1.2068509904e+11\n",
      "\t3th-fold validation error=1.00532948844e+11\n",
      "\t4th-fold validation error=1.23985506173e+11\n",
      "\t5th-fold validation error=1.16646068813e+11\n",
      "\t6th-fold validation error=1.87718543313e+11\n",
      "\t7th-fold validation error=1.48661631587e+11\n",
      "\t8th-fold validation error=1.37508992399e+11\n",
      "\t9th-fold validation error=1.08835483678e+11\n",
      "\t10th-fold validation error=1.42409439492e+11\n",
      "\taverage error=130409719652.0\n",
      "with penalty=1000000.0:\n",
      "\t1th-fold validation error=1.24007566828e+11\n",
      "\t2th-fold validation error=1.27275344451e+11\n",
      "\t3th-fold validation error=1.06999076421e+11\n",
      "\t4th-fold validation error=1.30017380874e+11\n",
      "\t5th-fold validation error=1.23004096606e+11\n",
      "\t6th-fold validation error=1.51548260351e+11\n",
      "\t7th-fold validation error=1.58134063623e+11\n",
      "\t8th-fold validation error=1.4448298932e+11\n",
      "\t9th-fold validation error=1.14228951231e+11\n",
      "\t10th-fold validation error=1.53989137463e+11\n",
      "\taverage error=133368686717.0\n",
      "with penalty=3162277.66017:\n",
      "\t1th-fold validation error=1.26667418908e+11\n",
      "\t2th-fold validation error=1.29764413729e+11\n",
      "\t3th-fold validation error=1.09478350004e+11\n",
      "\t4th-fold validation error=1.32265872584e+11\n",
      "\t5th-fold validation error=1.25377401188e+11\n",
      "\t6th-fold validation error=1.47444482048e+11\n",
      "\t7th-fold validation error=1.61794177726e+11\n",
      "\t8th-fold validation error=1.47080935838e+11\n",
      "\t9th-fold validation error=1.16233961683e+11\n",
      "\t10th-fold validation error=1.58905702071e+11\n",
      "\taverage error=135501271578.0\n",
      "with penalty=10000000.0:\n",
      "\t1th-fold validation error=1.27578853101e+11\n",
      "\t2th-fold validation error=1.30609319713e+11\n",
      "\t3th-fold validation error=1.10325014152e+11\n",
      "\t4th-fold validation error=1.33024650693e+11\n",
      "\t5th-fold validation error=1.26178452353e+11\n",
      "\t6th-fold validation error=1.49389881733e+11\n",
      "\t7th-fold validation error=1.63049116766e+11\n",
      "\t8th-fold validation error=1.47957301882e+11\n",
      "\t9th-fold validation error=1.1690933352e+11\n",
      "\t10th-fold validation error=1.6066127445e+11\n",
      "\taverage error=136568319836.0\n"
     ]
    }
   ],
   "source": [
    "import numpy as np\n",
    "\n",
    "(train_valid, test) = sales.random_split(.9, seed=1)\n",
    "train_valid_shuffled = graphlab.toolkits.cross_validation.shuffle(train_valid, random_seed=1)\n",
    "\n",
    "poly_power_data = polynomial_sframe(train_valid_shuffled['sqft_living'], degree=15)\n",
    "my_features = poly_power_data.column_names() # get the name of the features\n",
    "poly_power_data['price'] = train_valid_shuffled['price'] # add price to the data since it's the target\n",
    "\n",
    "error_list =[]\n",
    "for l2_penalty in np.logspace(1, 7, num=13):\n",
    "    # l2_penalty = 10\n",
    "    print 'with penalty={0}:'.format(l2_penalty)\n",
    "    error = k_fold_cross_validation(k=10, l2_penalty=l2_penalty, \n",
    "                data=poly_power_data, output_name='price', features_list=my_features)\n",
    "    error_list+=[error,]"
   ]
  },
  {
   "cell_type": "markdown",
   "metadata": {},
   "source": [
    "***QUIZ QUESTIONS:  What is the best value for the L2 penalty according to 10-fold validation?***"
   ]
  },
  {
   "cell_type": "markdown",
   "metadata": {},
   "source": [
    "You may find it useful to plot the k-fold cross-validation errors you have obtained to better understand the behavior of the method.  "
   ]
  },
  {
   "cell_type": "code",
   "execution_count": null,
   "metadata": {
    "collapsed": false
   },
   "outputs": [],
   "source": [
    "import numpy as np"
   ]
  },
  {
   "cell_type": "code",
   "execution_count": 12,
   "metadata": {
    "collapsed": false
   },
   "outputs": [
    {
     "data": {
      "text/plain": [
       "[<matplotlib.lines.Line2D at 0x11e4e3cd0>]"
      ]
     },
     "execution_count": 12,
     "metadata": {},
     "output_type": "execute_result"
    },
    {
     "data": {
      "image/png": "[encoded data removed]",
      "text/plain": [
       "<matplotlib.figure.Figure at 0x11e4e3050>"
      ]
     },
     "metadata": {},
     "output_type": "display_data"
    }
   ],
   "source": [
    "# Plot the l2_penalty values in the x axis and the cross-validation error in the y axis.\n",
    "# Using plt.xscale('log') will make your plot more intuitive.\n",
    "penalty = np.logspace(1, 7, num=13)\n",
    "plt.figure()\n",
    "plt.xscale('log')\n",
    "plt.plot(np.logspace(1, 7, num=13), error_list)"
   ]
  },
  {
   "cell_type": "markdown",
   "metadata": {},
   "source": [
    "Once you found the best value for the L2 penalty using cross-validation, it is important to retrain a final model on all of the training data using this value of `l2_penalty`. This way, your final model will be trained on the entire dataset."
   ]
  },
  {
   "cell_type": "code",
   "execution_count": 13,
   "metadata": {
    "collapsed": false
   },
   "outputs": [
    {
     "name": "stdout",
     "output_type": "stream",
     "text": [
      "best_penalty 1000.0\n"
     ]
    }
   ],
   "source": [
    "index = np.argmin(np.array(error_list))\n",
    "best_penalty = penalty[index]\n",
    "print 'best_penalty',best_penalty\n",
    "\n",
    "model = graphlab.linear_regression.create(poly_power_data, target = 'price', features = my_features, \n",
    "                                    validation_set = None, verbose = False, l2_penalty=best_penalty)"
   ]
  },
  {
   "cell_type": "markdown",
   "metadata": {},
   "source": [
    "***QUIZ QUESTION: Using the best L2 penalty found above, train a model using all training data. What is the RSS on the TEST data of the model you learn with this L2 penalty? ***"
   ]
  },
  {
   "cell_type": "code",
   "execution_count": 14,
   "metadata": {
    "collapsed": false
   },
   "outputs": [
    {
     "name": "stdout",
     "output_type": "stream",
     "text": [
      "1.28780855058e+14\n"
     ]
    }
   ],
   "source": [
    "poly_power_test_data = polynomial_sframe(test['sqft_living'], degree=15)\n",
    "poly_power_test_data['price'] = test['price']\n",
    "\n",
    "predictions = model.predict(poly_power_test_data)\n",
    "error = test['price'] - predictions\n",
    "RSS = (error*error).sum()\n",
    "print RSS"
   ]
  },
  {
   "cell_type": "code",
   "execution_count": null,
   "metadata": {
    "collapsed": true
   },
   "outputs": [],
   "source": []
  }
 ],
 "metadata": {
  "kernelspec": {
   "display_name": "Python 2",
   "language": "python",
   "name": "python2"
  },
  "language_info": {
   "codemirror_mode": {
    "name": "ipython",
    "version": 2
   },
   "file_extension": ".py",
   "mimetype": "text/x-python",
   "name": "python",
   "nbconvert_exporter": "python",
   "pygments_lexer": "ipython2",
   "version": "2.7.11"
  }
 },
 "nbformat": 4,
 "nbformat_minor": 0
}
